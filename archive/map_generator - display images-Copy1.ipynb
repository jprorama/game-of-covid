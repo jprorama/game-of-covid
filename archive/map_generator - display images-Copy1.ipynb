{
 "cells": [
  {
   "cell_type": "markdown",
   "metadata": {},
   "source": [
    "Explore [geo pandas mapping example](https://geopandas.org/gallery/create_geopandas_from_pandas.html#sphx-glr-gallery-create-geopandas-from-pandas-py) with novel corona virus data from [John's Hopkins via Kaggle](https://www.kaggle.com/sudalairajkumar/novel-corona-virus-2019-dataset#time_series_covid_19_confirmed_US.csv).\n",
    "\n",
    "You need to manually download the data because you need a (free) Kaggle account. Download the Kaggle Covid data set and unpack it into the data/ directory containing this notebook.\n",
    "\n",
    "Make sure to have [geopandas](https://geopandas.org/install.html) installed for base functionality.  The [descartes](https://pypi.python.org/pypi/descartes) package is needed for plotting the map."
   ]
  },
  {
   "cell_type": "markdown",
   "metadata": {},
   "source": [
    "Set up the library imports"
   ]
  },
  {
   "cell_type": "code",
   "execution_count": null,
   "metadata": {},
   "outputs": [],
   "source": [
    "import pandas as pd\n",
    "import geopandas\n",
    "import matplotlib.pyplot as plt"
   ]
  },
  {
   "cell_type": "code",
   "execution_count": null,
   "metadata": {},
   "outputs": [],
   "source": [
    "rona_df = pd.read_csv(\"time_series_covid_19_confirmed_US.csv\")"
   ]
  },
  {
   "cell_type": "code",
   "execution_count": null,
   "metadata": {},
   "outputs": [],
   "source": [
    "rona_df.head()"
   ]
  },
  {
   "cell_type": "markdown",
   "metadata": {},
   "source": [
    "We want to limit our view to the continental United States.  It would be great to have a [bounding box to select just the Latitude and Longitude of interest](https://wiki.openstreetmap.org/wiki/Bounding_Box) but a quick search didn't turn up any numbers to use.  We can get our info by just dropping non-states in the first six rows who have a UID less than 1000 and Alaska and Hawaii from the states. Syntax help from https://stackoverflow.com/a/17071908/8928529.\n",
    "\n",
    "We can get just state level data for a less granular map by choose the entries with Lat = 0 but this is more complicated to plot since we lose position info. Go ahead and create the data set but ignore it for now. "
   ]
  },
  {
   "cell_type": "code",
   "execution_count": null,
   "metadata": {},
   "outputs": [],
   "source": [
    "rona_cus_df = rona_df.loc[(rona_df['UID']>1000) &\n",
    "                          (rona_df['Lat'] > 0) &\n",
    "                          (~rona_df['Province_State'].isin(['Alaska', 'Hawaii']))\n",
    "                         ]"
   ]
  },
  {
   "cell_type": "code",
   "execution_count": null,
   "metadata": {},
   "outputs": [],
   "source": [
    "rona_state_df = rona_df.loc[(rona_df['UID']>1000) & \n",
    "                            (rona_df['Lat'] == 0) &\n",
    "                            (~rona_df['Province_State'].isin(['Alaska', 'Hawaii'])) &\n",
    "                            (~rona_df['Admin2'].isin(['Unassigned', '']))\n",
    "                           ]"
   ]
  },
  {
   "cell_type": "code",
   "execution_count": null,
   "metadata": {},
   "outputs": [],
   "source": [
    "rona_cus_df.head()"
   ]
  },
  {
   "cell_type": "markdown",
   "metadata": {},
   "source": [
    "create the geodata frame for plotting"
   ]
  },
  {
   "cell_type": "markdown",
   "metadata": {},
   "source": [
    "# We need a key to merge on, so I will make CountyState one variable and strip out spaces"
   ]
  },
  {
   "cell_type": "code",
   "execution_count": null,
   "metadata": {},
   "outputs": [],
   "source": [
    "rona_cus_df[\"County_State\"] = rona_cus_df[\"Admin2\"] + rona_cus_df[\"Province_State\"]\n",
    "\n",
    "rona_cus_df['County_State'] = rona_cus_df['County_State'].str.replace(\" \",\"\")\n",
    "\n",
    "rona_cus_df[\"County_State\"]"
   ]
  },
  {
   "cell_type": "markdown",
   "metadata": {},
   "source": [
    "# Now read in the population dataset "
   ]
  },
  {
   "cell_type": "code",
   "execution_count": null,
   "metadata": {},
   "outputs": [],
   "source": [
    "#Kept getting error when importing, solved by adding encoding statement\n",
    "population = pd.read_csv(\"pop.csv\",encoding='latin-1')\n",
    "\n",
    "population.head()"
   ]
  },
  {
   "cell_type": "markdown",
   "metadata": {},
   "source": [
    "# Now strip out the word County to make it match the structure of the other dataset"
   ]
  },
  {
   "cell_type": "code",
   "execution_count": null,
   "metadata": {},
   "outputs": [],
   "source": [
    "population['County_Alone'] = population['CTYNAME'].str.replace('County', '')"
   ]
  },
  {
   "cell_type": "code",
   "execution_count": null,
   "metadata": {},
   "outputs": [],
   "source": [
    "population.head()"
   ]
  },
  {
   "cell_type": "code",
   "execution_count": null,
   "metadata": {},
   "outputs": [],
   "source": [
    "population[\"County_State\"] = population[\"County_Alone\"] + population[\"STNAME\"]"
   ]
  },
  {
   "cell_type": "code",
   "execution_count": null,
   "metadata": {},
   "outputs": [],
   "source": [
    "population.head()\n",
    "\n",
    "population['County_State'] = population['County_State'].str.replace(\" \",\"\")\n",
    "\n",
    "population.head()"
   ]
  },
  {
   "cell_type": "code",
   "execution_count": null,
   "metadata": {},
   "outputs": [],
   "source": [
    "population = population[['POPESTIMATE2019','County_State']]"
   ]
  },
  {
   "cell_type": "code",
   "execution_count": null,
   "metadata": {},
   "outputs": [],
   "source": [
    "pd.set_option('display.max_rows', None)\n",
    "\n",
    "population"
   ]
  },
  {
   "cell_type": "code",
   "execution_count": null,
   "metadata": {},
   "outputs": [],
   "source": [
    "Left_join = pd.merge(population,  \n",
    "                     rona_cus_df,  \n",
    "                     on ='County_State',  \n",
    "                     how ='left') \n",
    "Left_join \n",
    "\n",
    "\n",
    "\n",
    "gdf = geopandas.GeoDataFrame(Left_join ,\n",
    "                             geometry=geopandas.points_from_xy(Left_join.Long_, Left_join.Lat))\n",
    "\n",
    "\n",
    "gdf[gdf.Province_State.notnull()]"
   ]
  },
  {
   "cell_type": "markdown",
   "metadata": {},
   "source": [
    "Now plot the location data on the US contentintal map. (This requires the [descartes](https://pypi.python.org/pypi/descartes) module installed above.)\n",
    "\n",
    "* Source https://www.mikulskibartosz.name/how-to-change-plot-size-in-jupyter-notebook/\n"
   ]
  },
  {
   "cell_type": "code",
   "execution_count": null,
   "metadata": {},
   "outputs": [],
   "source": [
    "plt.rcParams[\"figure.figsize\"] = (20,10)"
   ]
  },
  {
   "cell_type": "code",
   "execution_count": 84,
   "metadata": {},
   "outputs": [
    {
     "data": {
      "image/png": "[encoded data removed]",
      "text/plain": [
       "<Figure size 1440x720 with 1 Axes>"
      ]
     },
     "metadata": {
      "needs_background": "light"
     },
     "output_type": "display_data"
    },
    {
     "data": {
      "text/plain": [
       "<Figure size 7200x7200 with 0 Axes>"
      ]
     },
     "metadata": {},
     "output_type": "display_data"
    }
   ],
   "source": [
    "world = geopandas.read_file(geopandas.datasets.get_path('naturalearth_lowres'))\n",
    "\n",
    "# We restrict to United States\n",
    "ax = world[world.continent == 'United States'].plot(\n",
    "    color='white', edgecolor='white')\n",
    "\n",
    "gdf = geopandas.GeoDataFrame(rona_cus_df,\n",
    "                             geometry=geopandas.points_from_xy(rona_cus_df.Long_, rona_cus_df.Lat))\n",
    "\n",
    "\n",
    "gdf.plot(ax=ax, color='red', marker='s',markersize=1)\n",
    "# We can now plot our ``GeoDataFrame``.\n",
    "gdf.plot(ax=ax, color='red', marker='s',markersize=1)\n",
    "plt.axis('off')\n",
    "plt.figure(figsize=(100,100))\n",
    "plt.show()"
   ]
  },
  {
   "cell_type": "code",
   "execution_count": null,
   "metadata": {},
   "outputs": [],
   "source": [
    "plt.rcParams[\"figure.figsize\"] = (20,10)"
   ]
  },
  {
   "cell_type": "markdown",
   "metadata": {},
   "source": [
    "# Making it work for one"
   ]
  },
  {
   "cell_type": "code",
   "execution_count": null,
   "metadata": {},
   "outputs": [],
   "source": [
    "import warnings\n",
    "warnings.filterwarnings('ignore')\n",
    "\n",
    "world = geopandas.read_file(geopandas.datasets.get_path('naturalearth_lowres'))\n",
    "\n",
    "# We restrict to United States\n",
    "ax = world[world.continent == 'United States'].plot(\n",
    "    color='white', edgecolor='white')\n",
    "\n",
    "col = '2/8/20'\n",
    "limit_columns = gdf[['Admin2','Province_State','Lat','Long_',col]]\n",
    "filter_columns = limit_columns[limit_columns[col] != 0]\n",
    "lat_long = geopandas.GeoDataFrame(filter_columns,geometry=geopandas.points_from_xy(filter_columns.Long_, filter_columns.Lat))\n",
    "lat_long.plot(ax=ax, color='red', marker='s',markersize=lat_long[col])\n",
    "plt.axis('off')\n",
    "plt.savefig('18.png',dpi=100)\n",
    "plt.figure(figsize=(100,100))\n",
    "plt.show()\n"
   ]
  },
  {
   "cell_type": "code",
   "execution_count": null,
   "metadata": {},
   "outputs": [],
   "source": [
    "i = 1\n",
    "first_loc = gdf.columns.get_loc(\"1/22/20\")\n",
    "for col in gdf.columns[first_loc:]:\n",
    "    world = geopandas.read_file(geopandas.datasets.get_path('naturalearth_lowres'))\n",
    "    ax = world[world.continent == 'United States'].plot(color='white', edgecolor='white')\n",
    "    file_name = str(i) + '.png'\n",
    "    limit_columns = gdf[['Admin2','Province_State','Lat','Long_',col]]\n",
    "    filter_columns = limit_columns[limit_columns[col] != 0]\n",
    "    lat_long = geopandas.GeoDataFrame(filter_columns,\n",
    "                          geometry=geopandas.points_from_xy(filter_columns.Long_, filter_columns.Lat))\n",
    "    lat_long.plot(ax=ax, color='red', marker='s',markersize=lat_long[col])\n",
    "    plt.axis('off')\n",
    "    plt.savefig(file_name,dpi=100)\n",
    "    plt.figure(figsize=(100,100))\n",
    "    \n",
    "    i +=1\n",
    "      \n",
    "plt.show()    "
   ]
  }
 ],
 "metadata": {
  "kernelspec": {
   "display_name": "Python 3",
   "language": "python",
   "name": "python3"
  },
  "language_info": {
   "codemirror_mode": {
    "name": "ipython",
    "version": 3
   },
   "file_extension": ".py",
   "mimetype": "text/x-python",
   "name": "python",
   "nbconvert_exporter": "python",
   "pygments_lexer": "ipython3",
   "version": "3.7.3"
  }
 },
 "nbformat": 4,
 "nbformat_minor": 4
}
