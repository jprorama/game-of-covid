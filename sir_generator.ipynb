{
 "cells": [
  {
   "cell_type": "markdown",
   "metadata": {},
   "source": [
    "Explore [geo pandas mapping example](https://geopandas.org/gallery/create_geopandas_from_pandas.html#sphx-glr-gallery-create-geopandas-from-pandas-py) with novel corona virus data from [John's Hopkins via Kaggle](https://www.kaggle.com/sudalairajkumar/novel-corona-virus-2019-dataset#time_series_covid_19_confirmed_US.csv).\n",
    "\n",
    "You need to manually download the data because you need a (free) Kaggle account. Download the Kaggle Covid data set and unpack it into the data/ directory containing this notebook.\n",
    "\n",
    "Make sure to have [geopandas](https://geopandas.org/install.html) installed for base functionality.  The [descartes](https://pypi.python.org/pypi/descartes) package is needed for plotting the map."
   ]
  },
  {
   "cell_type": "markdown",
   "metadata": {},
   "source": [
    "Set up the library imports"
   ]
  },
  {
   "cell_type": "code",
   "execution_count": null,
   "metadata": {},
   "outputs": [],
   "source": [
    "import numpy as np\n",
    "import pandas as pd\n",
    "import geopandas\n",
    "import matplotlib.pyplot as plt"
   ]
  },
  {
   "cell_type": "code",
   "execution_count": null,
   "metadata": {},
   "outputs": [],
   "source": [
    "rona_df = pd.read_csv(\"data/time_series_covid_19_confirmed_US.csv\")"
   ]
  },
  {
   "cell_type": "code",
   "execution_count": null,
   "metadata": {},
   "outputs": [],
   "source": [
    "rona_df.head()"
   ]
  },
  {
   "cell_type": "markdown",
   "metadata": {},
   "source": [
    "We want to limit our view to the continental United States.  It would be great to have a [bounding box to select just the Latitude and Longitude of interest](https://wiki.openstreetmap.org/wiki/Bounding_Box) but a quick search didn't turn up any numbers to use.  We can get our info by just dropping non-states in the first six rows who have a UID less than 1000 and Alaska and Hawaii from the states. Syntax help from https://stackoverflow.com/a/17071908/8928529.\n",
    "\n",
    "We can get just state level data for a less granular map by choose the entries with Lat = 0 but this is more complicated to plot since we lose position info. Go ahead and create the data set but ignore it for now. "
   ]
  },
  {
   "cell_type": "code",
   "execution_count": null,
   "metadata": {},
   "outputs": [],
   "source": [
    "rona_cus_df = rona_df.loc[(rona_df['UID']>1000) &\n",
    "                          (rona_df['Lat'] > 0) &\n",
    "                          (~rona_df['Province_State'].isin(['Alaska', 'Hawaii']))\n",
    "                         ]"
   ]
  },
  {
   "cell_type": "code",
   "execution_count": null,
   "metadata": {},
   "outputs": [],
   "source": [
    "rona_state_df = rona_df.loc[(rona_df['UID']>1000) & \n",
    "                            (rona_df['Lat'] == 0) &\n",
    "                            (~rona_df['Province_State'].isin(['Alaska', 'Hawaii'])) &\n",
    "                            (~rona_df['Admin2'].isin(['Unassigned', '']))\n",
    "                           ]"
   ]
  },
  {
   "cell_type": "code",
   "execution_count": null,
   "metadata": {},
   "outputs": [],
   "source": [
    "rona_cus_df.head()"
   ]
  },
  {
   "cell_type": "markdown",
   "metadata": {},
   "source": [
    "create the geodata frame for plotting"
   ]
  },
  {
   "cell_type": "markdown",
   "metadata": {},
   "source": [
    "# We need a key to merge on, so I will make CountyState one variable and strip out spaces"
   ]
  },
  {
   "cell_type": "code",
   "execution_count": null,
   "metadata": {},
   "outputs": [],
   "source": [
    "rona_cus_df[\"County_State\"] = rona_cus_df[\"Admin2\"] + rona_cus_df[\"Province_State\"]\n",
    "\n",
    "rona_cus_df['County_State'] = rona_cus_df['County_State'].str.replace(\" \",\"\")\n",
    "\n",
    "rona_cus_df[\"County_State\"]"
   ]
  },
  {
   "cell_type": "markdown",
   "metadata": {},
   "source": [
    "# Now read in the population dataset "
   ]
  },
  {
   "cell_type": "code",
   "execution_count": null,
   "metadata": {},
   "outputs": [],
   "source": [
    "#Kept getting error when importing, solved by adding encoding statement\n",
    "population = pd.read_csv(\"data/pop.csv\",encoding='latin-1')\n",
    "\n",
    "population.head()"
   ]
  },
  {
   "cell_type": "markdown",
   "metadata": {},
   "source": [
    "# Now strip out the word County to make it match the structure of the other dataset"
   ]
  },
  {
   "cell_type": "code",
   "execution_count": null,
   "metadata": {},
   "outputs": [],
   "source": [
    "population['County_Alone'] = population['CTYNAME'].str.replace('County', '')"
   ]
  },
  {
   "cell_type": "code",
   "execution_count": null,
   "metadata": {},
   "outputs": [],
   "source": [
    "population.head()"
   ]
  },
  {
   "cell_type": "code",
   "execution_count": null,
   "metadata": {},
   "outputs": [],
   "source": [
    "population[\"County_State\"] = population[\"County_Alone\"] + population[\"STNAME\"]"
   ]
  },
  {
   "cell_type": "code",
   "execution_count": null,
   "metadata": {},
   "outputs": [],
   "source": [
    "population.head()\n",
    "\n",
    "population['County_State'] = population['County_State'].str.replace(\" \",\"\")\n",
    "\n",
    "population.head()"
   ]
  },
  {
   "cell_type": "code",
   "execution_count": null,
   "metadata": {},
   "outputs": [],
   "source": [
    "population = population[['POPESTIMATE2019','County_State']]"
   ]
  },
  {
   "cell_type": "code",
   "execution_count": null,
   "metadata": {},
   "outputs": [],
   "source": [
    "pd.set_option('display.max_rows', None)\n",
    "\n",
    "population"
   ]
  },
  {
   "cell_type": "code",
   "execution_count": null,
   "metadata": {},
   "outputs": [],
   "source": [
    "#Left join both datasets on the key\n",
    "Left_join = pd.merge(population,  \n",
    "                     rona_cus_df,  \n",
    "                     on ='County_State',  \n",
    "                     how ='left') \n",
    "Left_join \n",
    "\n",
    "\n",
    "\n",
    "gdf = geopandas.GeoDataFrame(Left_join ,\n",
    "                             geometry=geopandas.points_from_xy(Left_join.Long_, Left_join.Lat))\n",
    "\n",
    "\n",
    "gdf_final = gdf[gdf.Province_State.notnull()]\n",
    "\n",
    "\n",
    "gdf_final"
   ]
  },
  {
   "cell_type": "markdown",
   "metadata": {},
   "source": [
    "Now plot the location data on the US contentintal map. (This requires the [descartes](https://pypi.python.org/pypi/descartes) module installed above.)\n",
    "\n",
    "* Source https://www.mikulskibartosz.name/how-to-change-plot-size-in-jupyter-notebook/\n"
   ]
  },
  {
   "cell_type": "code",
   "execution_count": null,
   "metadata": {},
   "outputs": [],
   "source": [
    "plt.rcParams[\"figure.figsize\"] = (20,10)"
   ]
  },
  {
   "cell_type": "code",
   "execution_count": null,
   "metadata": {},
   "outputs": [],
   "source": [
    "plt.rcParams[\"figure.figsize\"] = (20,20)\n",
    "plt.rcParams['image.interpolation'] = 'none'\n",
    "plt.rcParams['image.cmap'] = 'binary'\n"
   ]
  },
  {
   "cell_type": "code",
   "execution_count": null,
   "metadata": {},
   "outputs": [],
   "source": [
    "world = geopandas.read_file(geopandas.datasets.get_path('naturalearth_lowres'))\n",
    "\n",
    "# We restrict to United States\n",
    "ax = world[world.continent == 'United States'].plot(\n",
    "    color='white', edgecolor='white')\n",
    "\n",
    "gdf = geopandas.GeoDataFrame(rona_cus_df,\n",
    "                             geometry=geopandas.points_from_xy(rona_cus_df.Long_, rona_cus_df.Lat))\n",
    "\n",
    "\n",
    "gdf.plot(ax=ax, color='red', marker='s',markersize=1)\n",
    "# We can now plot our ``GeoDataFrame``.\n",
    "gdf.plot(ax=ax, color='red', marker='s',markersize=1)\n",
    "plt.axis('off')\n",
    "plt.figure(figsize=(100,100))\n",
    "plt.show()"
   ]
  },
  {
   "cell_type": "code",
   "execution_count": null,
   "metadata": {},
   "outputs": [],
   "source": [
    "plt.rcParams[\"figure.figsize\"] = (20,10)"
   ]
  },
  {
   "cell_type": "markdown",
   "metadata": {},
   "source": [
    "# Generate SIR Dataset"
   ]
  },
  {
   "cell_type": "code",
   "execution_count": null,
   "metadata": {},
   "outputs": [],
   "source": [
    "#Make infection data per White paper\n",
    "first_loc = gdf_final.columns.get_loc(\"1/22/20\")\n",
    "last_loc =  gdf_final.columns.get_loc(\"6/14/20\")\n",
    "i = 0\n",
    "for col in gdf_final.columns[first_loc:last_loc]:\n",
    "    gdf_final['Inf' + str(col)] =gdf_final.apply(lambda row: (100*(row[col] / row['POPESTIMATE2019']))/ 100, axis=1)\n",
    "    i = i + 1"
   ]
  },
  {
   "cell_type": "code",
   "execution_count": null,
   "metadata": {},
   "outputs": [],
   "source": [
    "gdf_final"
   ]
  },
  {
   "cell_type": "code",
   "execution_count": null,
   "metadata": {},
   "outputs": [],
   "source": [
    "#Make recovery data per white paper\n",
    "count = 1\n",
    "first_loc = gdf_final.columns.get_loc(\"1/22/20\")\n",
    "last_loc=gdf_final.columns.get_loc(\"6/14/20\")\n",
    "\n",
    "for col in gdf_final.columns[first_loc:last_loc]:\n",
    "    gdf_final['Recover' + str(col)] =gdf_final.apply(lambda row: 100*((row[col]/row['POPESTIMATE2019']))/100, axis=1)\n",
    "    if count==1:\n",
    "        col_1=col\n",
    "    if (count==14):\n",
    "        count=0\n",
    "        col_2=col\n",
    "        gdf_final['Recover' + str(col)] =gdf_final.apply(lambda row: 100*(((row[col_2] - row[col_1])/row['POPESTIMATE2019'])/100), axis=1)\n",
    "    count=count+1"
   ]
  },
  {
   "cell_type": "code",
   "execution_count": null,
   "metadata": {},
   "outputs": [],
   "source": [
    "gdf_final"
   ]
  },
  {
   "cell_type": "code",
   "execution_count": null,
   "metadata": {},
   "outputs": [],
   "source": [
    "#Separate out infection and recovery data in different dataframes for calculations\n",
    "\n",
    "first_loc = gdf_final.columns.get_loc(\"Inf1/22/20\")\n",
    "last_loc =  gdf_final.columns.get_loc(\"Inf6/13/20\")\n",
    "\n",
    "\n",
    "first_rec = gdf_final.columns.get_loc(\"Recover1/22/20\")\n",
    "last_rec =  gdf_final.columns.get_loc(\"Recover6/13/20\")\n",
    "\n",
    "#Make Infection Data\n",
    "infection = gdf_final.iloc[:,first_loc:last_loc]\n",
    "\n",
    "#Subtract 1 because the equation is 1-I-R, lets just subtract the 1 here\n",
    "infection2 = 1-infection\n",
    "\n",
    "#Make recovery data\n",
    "recovery = gdf_final.iloc[:,first_rec:last_rec]\n",
    "\n",
    "#Infection recovery subtraction\n",
    "infrec = infection2 - recovery.values\n",
    "\n",
    "#Now concatenate all values in a (R,G,B) manner\n",
    "final_data = pd.DataFrame(np.rec.fromarrays((infection.values, recovery.values,infrec.values)).tolist(), \n",
    "                      columns=infection.columns,\n",
    "                      index=infection.index)"
   ]
  },
  {
   "cell_type": "markdown",
   "metadata": {},
   "source": [
    "# Now we need the latitude, longitude, and population"
   ]
  },
  {
   "cell_type": "code",
   "execution_count": null,
   "metadata": {},
   "outputs": [],
   "source": [
    "data_frame_imp = gdf_final[[\"POPESTIMATE2019\",\"County_State\",\"geometry\"]]"
   ]
  },
  {
   "cell_type": "code",
   "execution_count": null,
   "metadata": {},
   "outputs": [],
   "source": [
    "#This dataset has the RBG value and necessary identifiers to plot\n",
    "final = pd.concat([data_frame_imp, final_data], axis=1)"
   ]
  },
  {
   "cell_type": "code",
   "execution_count": null,
   "metadata": {},
   "outputs": [],
   "source": [
    "final"
   ]
  }
 ],
 "metadata": {
  "language_info": {
   "name": "python",
   "pygments_lexer": "ipython3"
  }
 },
 "nbformat": 4,
 "nbformat_minor": 4
}
