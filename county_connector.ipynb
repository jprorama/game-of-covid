{
 "cells": [
  {
   "cell_type": "markdown",
   "metadata": {},
   "source": [
    "Explore building a [US county adjacency map based on US Census data](https://www.census.gov/geographies/reference-files/2010/geo/county-adjacency.html).\n",
    "\n",
    "You need to manually download the data. Download the Kaggle Covid data set and unpack it into the data/ directory containing this notebook.\n",
    "\n",
    "wget https://www2.census.gov/geo/docs/reference/county_adjacency.txt\n"
   ]
  },
  {
   "cell_type": "markdown",
   "metadata": {},
   "source": [
    "Set up the library imports"
   ]
  },
  {
   "cell_type": "code",
   "execution_count": null,
   "metadata": {},
   "outputs": [],
   "source": [
    "import pandas as pd\n",
    "import geopandas\n",
    "import matplotlib.pyplot as plt\n",
    "import math"
   ]
  },
  {
   "cell_type": "markdown",
   "metadata": {},
   "source": [
    "Deal with encoding issues in file with python engine. https://stackoverflow.com/a/56053794/8928529"
   ]
  },
  {
   "cell_type": "code",
   "execution_count": null,
   "metadata": {},
   "outputs": [],
   "source": [
    "connector_df = pd.read_csv(\"data/county_adjacency.txt\", sep='\\t',  header=None, engine='python')"
   ]
  },
  {
   "cell_type": "code",
   "execution_count": null,
   "metadata": {},
   "outputs": [],
   "source": [
    "connector_df"
   ]
  },
  {
   "cell_type": "code",
   "execution_count": null,
   "metadata": {},
   "outputs": [],
   "source": [
    "sparse_grid=dict()\n",
    "incounty = False"
   ]
  },
  {
   "cell_type": "code",
   "execution_count": null,
   "metadata": {},
   "outputs": [],
   "source": [
    "for index, row in connector_df.iterrows():\n",
    "    if (type(row[0]) == str):\n",
    "        print(row[0], row[1])\n",
    "        curr_county = row[1]\n",
    "        # first connection is on the same line, often self\n",
    "        sparse_grid[curr_county]=[]\n",
    "        sparse_grid[curr_county].append(row[3])\n",
    "        continue\n",
    "    sparse_grid[curr_county].append(row[3])\n",
    "    print(row[3])"
   ]
  },
  {
   "cell_type": "code",
   "execution_count": null,
   "metadata": {},
   "outputs": [],
   "source": [
    "sparse_grid"
   ]
  },
  {
   "cell_type": "code",
   "execution_count": null,
   "metadata": {},
   "outputs": [],
   "source": [
    "sparse_grid[12003.0]"
   ]
  }
 ],
 "metadata": {
  "language_info": {
   "name": "python",
   "pygments_lexer": "ipython3"
  }
 },
 "nbformat": 4,
 "nbformat_minor": 4
}
