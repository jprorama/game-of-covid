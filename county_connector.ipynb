{
 "cells": [
  {
   "cell_type": "markdown",
   "metadata": {},
   "source": [
    "# County Connectivity Map\n",
    "\n",
    "Explore building a [US county adjacency map based on US Census data](https://www.census.gov/geographies/reference-files/2010/geo/county-adjacency.html).\n",
    "\n",
    "You need to manually download the data.\n",
    "\n",
    "wget https://www2.census.gov/geo/docs/reference/county_adjacency.txt\n",
    "\n",
    "The census data uses [FIPS codes](https://en.wikipedia.org/wiki/FIPS_county_code) for states and counties.  We can use these numeric IDs directly as raw index values for our grid."
   ]
  },
  {
   "cell_type": "markdown",
   "metadata": {},
   "source": [
    "Set up the library imports"
   ]
  },
  {
   "cell_type": "code",
   "execution_count": null,
   "metadata": {},
   "outputs": [],
   "source": [
    "import pandas as pd\n",
    "import geopandas\n",
    "import matplotlib.pyplot as plt\n",
    "import matplotlib.pylab as pylab\n",
    "import seaborn as sns\n",
    "import scipy.sparse as sparse"
   ]
  },
  {
   "cell_type": "markdown",
   "metadata": {},
   "source": [
    "## Load the county adjacency data\n",
    "\n",
    "Deal with encoding issues in file with python engine. https://stackoverflow.com/a/56053794/8928529"
   ]
  },
  {
   "cell_type": "code",
   "execution_count": null,
   "metadata": {},
   "outputs": [],
   "source": [
    "connector_df = pd.read_csv(\"data/county_adjacency.txt\", sep='\\t',  header=None, engine='python')"
   ]
  },
  {
   "cell_type": "code",
   "execution_count": null,
   "metadata": {},
   "outputs": [],
   "source": [
    "connector_df"
   ]
  },
  {
   "cell_type": "markdown",
   "metadata": {},
   "source": [
    "## Build a sparse grid of just FIPS data"
   ]
  },
  {
   "cell_type": "code",
   "execution_count": null,
   "metadata": {},
   "outputs": [],
   "source": [
    "sparse_grid=dict()\n",
    "incounty = False"
   ]
  },
  {
   "cell_type": "code",
   "execution_count": null,
   "metadata": {},
   "outputs": [],
   "source": [
    "for index, row in connector_df.iterrows():\n",
    "    if (type(row[0]) == str):\n",
    "        print(row[0], row[1])\n",
    "        curr_county = row[1]\n",
    "        # first connection is on the same line, often self\n",
    "        sparse_grid[curr_county]=[]\n",
    "        sparse_grid[curr_county].append(row[3])\n",
    "        continue\n",
    "    sparse_grid[curr_county].append(row[3])\n",
    "    print(row[3])"
   ]
  },
  {
   "cell_type": "code",
   "execution_count": null,
   "metadata": {},
   "outputs": [],
   "source": [
    "sparse_grid"
   ]
  },
  {
   "cell_type": "markdown",
   "metadata": {},
   "source": [
    "## Build and visualize sparse matrix \n",
    "\n",
    "Use the above data to [build a sparse matrix for the connectivity so it can be visualized](https://cmdlinetips.com/2019/02/how-to-visualize-sparse-matrix-in-python/).  The matplotlib.pylab.spy function is like imshow but for sparse matricies.  It give quick insight into the connectivity patterns in a matrix."
   ]
  },
  {
   "cell_type": "markdown",
   "metadata": {},
   "source": [
    "Get the max index for the sparse matrix and add one to tollerate FIPS 1-indexed values."
   ]
  },
  {
   "cell_type": "code",
   "execution_count": null,
   "metadata": {},
   "outputs": [],
   "source": [
    "FIPS=list(sparse_grid.keys())\n",
    "\n",
    "M=int(max(FIPS))+1"
   ]
  },
  {
   "cell_type": "markdown",
   "metadata": {},
   "source": [
    "Create a sparse matrix using the list-of-lists constructor with dimensions to support every FIPS id."
   ]
  },
  {
   "cell_type": "code",
   "execution_count": null,
   "metadata": {},
   "outputs": [],
   "source": [
    "county_adjmat = sparse.lil_matrix((M,M))"
   ]
  },
  {
   "cell_type": "markdown",
   "metadata": {},
   "source": [
    "Load the processed data above initializing each adjacent entry with 1.  All non-adjacent entries remain zero. The [lil_matrix is simply indexed to initialize](https://stackoverflow.com/q/40352616/8928529). See http://scipy-lectures.org/advanced/scipy_sparse/lil_matrix.html"
   ]
  },
  {
   "cell_type": "code",
   "execution_count": null,
   "metadata": {},
   "outputs": [],
   "source": [
    "for county in sparse_grid.keys():\n",
    "    for adjacent in sparse_grid[county]:\n",
    "        county_adjmat[county, adjacent]=1"
   ]
  },
  {
   "cell_type": "markdown",
   "metadata": {},
   "source": [
    "[Adjust the default image size](https://stackoverflow.com/a/36368418/8928529) to get a visuallization we can see."
   ]
  },
  {
   "cell_type": "code",
   "execution_count": null,
   "metadata": {},
   "outputs": [],
   "source": [
    "from matplotlib.pyplot import figure\n",
    "figure(num=None, figsize=(20, 20), dpi=80, facecolor='w', edgecolor='k')"
   ]
  },
  {
   "cell_type": "code",
   "execution_count": null,
   "metadata": {},
   "outputs": [],
   "source": [
    "plt.rcParams['figure.figsize'] = [10, 10]"
   ]
  },
  {
   "cell_type": "code",
   "execution_count": null,
   "metadata": {},
   "outputs": [],
   "source": [
    "pylab.spy(county_sparse, markersize=1)"
   ]
  },
  {
   "cell_type": "markdown",
   "metadata": {},
   "source": [
    "## Visualize Connectivity Counts\n",
    "\n",
    "Show distribution of connectivity so we can understand what issues we might face when mapping to a [Moore neighborhood](https://en.wikipedia.org/wiki/Moore_neighborhood)."
   ]
  },
  {
   "cell_type": "markdown",
   "metadata": {},
   "source": [
    "#### Build dictionaries of counts"
   ]
  },
  {
   "cell_type": "code",
   "execution_count": null,
   "metadata": {},
   "outputs": [],
   "source": [
    "neighbors=dict()\n",
    "biguns=dict()\n",
    "\n",
    "for county in sparse_grid:\n",
    "    # count the neighbors not including self\n",
    "    count = len(sparse_grid[county]) - 1\n",
    "    if count in neighbors:\n",
    "        neighbors[count] += 1\n",
    "    else:\n",
    "        neighbors[count] = 1\n",
    "    if count > 8:\n",
    "        # remember ones that exceed the moore neighborhood\n",
    "        biguns[county] = count"
   ]
  },
  {
   "cell_type": "markdown",
   "metadata": {},
   "source": [
    "Understand the range of connectivity"
   ]
  },
  {
   "cell_type": "code",
   "execution_count": null,
   "metadata": {},
   "outputs": [],
   "source": [
    "connections=list(sorted(neighbors.keys()))\n",
    "connections"
   ]
  },
  {
   "cell_type": "code",
   "execution_count": null,
   "metadata": {},
   "outputs": [],
   "source": [
    "connectcounts = pd.DataFrame(0, index=range(max(connections)), columns=[\"count\"])"
   ]
  },
  {
   "cell_type": "code",
   "execution_count": null,
   "metadata": {},
   "outputs": [],
   "source": [
    "for count in neighbors.keys():\n",
    "    connectcounts[count] = neighbors[count]"
   ]
  },
  {
   "cell_type": "code",
   "execution_count": null,
   "metadata": {},
   "outputs": [],
   "source": [
    "len(sparse_grid.keys())"
   ]
  },
  {
   "cell_type": "markdown",
   "metadata": {},
   "source": [
    "#### Build dataframe of counts for easy plotting\n",
    "\n",
    "A simple approach of iterating through the sparse_grid to sum the counts again.  [Use .at to avoid the default of creating new dataframes](https://stackoverflow.com/a/13842286/8928529)."
   ]
  },
  {
   "cell_type": "code",
   "execution_count": null,
   "metadata": {},
   "outputs": [],
   "source": [
    "connectcounts = pd.DataFrame(0, index=range(len(sparse_grid.keys())), columns=[\"count\"])"
   ]
  },
  {
   "cell_type": "code",
   "execution_count": null,
   "metadata": {},
   "outputs": [],
   "source": [
    "index = 0\n",
    "for county in sorted(sparse_grid.keys()):\n",
    "    # count the neighbors not including self\n",
    "    connectcounts.at[index] = len(sparse_grid[county]) - 1\n",
    "    #print(len(sparse_grid[county]) - 1)\n",
    "    index += 1"
   ]
  },
  {
   "cell_type": "markdown",
   "metadata": {},
   "source": [
    "Use a [simple seaborne distplot() to visualize distributions](https://seaborn.pydata.org/tutorial/distributions.html)"
   ]
  },
  {
   "cell_type": "code",
   "execution_count": null,
   "metadata": {},
   "outputs": [],
   "source": [
    "sns.distplot(connectcounts,  kde=False)"
   ]
  },
  {
   "cell_type": "markdown",
   "metadata": {},
   "source": [
    "Show the counties that exceed the Moore neighborhood of 8."
   ]
  },
  {
   "cell_type": "code",
   "execution_count": null,
   "metadata": {},
   "outputs": [],
   "source": [
    "for county in biguns.keys():\n",
    "    print(\"{}: {}\".format(county, biguns[county]))"
   ]
  },
  {
   "cell_type": "markdown",
   "metadata": {},
   "source": [
    "## Reflections on Connectivity\n",
    "\n",
    "Interestingly, the [county with the greatest connections (14) is San Juan county in Utah](https://www.familysearch.org/wiki/en/San_Juan_County,_Utah_Genealogy#Maps). You'd think it was the crowded eastern half of the US that would have the larger counts.  This county is a relatively tall vertical rectangle in a neighborhood of realtively short horizontal rectangles.\n",
    "\n",
    "These larger connected counties gives us something to think about in building the matrix of connectivity.  Should counties simply have a squared off shape but be allowed to span multiple grid entries?  That is do we take geographic size into consideration?  Would this be a more natural representation for inter cell relationships? It could provide our images with a behavior that shows multiple cells acting with identical statistics."
   ]
  }
 ],
 "metadata": {
  "language_info": {
   "name": "python",
   "pygments_lexer": "ipython3"
  }
 },
 "nbformat": 4,
 "nbformat_minor": 4
}
