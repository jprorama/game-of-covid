{
 "cells": [
  {
   "cell_type": "markdown",
   "metadata": {},
   "source": [
    "Explore building a [US county adjacency map based on US Census data](https://www.census.gov/geographies/reference-files/2010/geo/county-adjacency.html).\n",
    "\n",
    "You need to manually download the data. Download the Kaggle Covid data set and unpack it into the data/ directory containing this notebook.\n",
    "\n",
    "wget https://www2.census.gov/geo/docs/reference/county_adjacency.txt\n"
   ]
  },
  {
   "cell_type": "markdown",
   "metadata": {},
   "source": [
    "Set up the library imports"
   ]
  },
  {
   "cell_type": "code",
   "execution_count": null,
   "metadata": {},
   "outputs": [],
   "source": [
    "import pandas as pd\n",
    "import geopandas\n",
    "import matplotlib.pyplot as plt\n",
    "import matplotlib.pylab as pylab\n",
    "import scipy.sparse as sparse"
   ]
  },
  {
   "cell_type": "markdown",
   "metadata": {},
   "source": [
    "Deal with encoding issues in file with python engine. https://stackoverflow.com/a/56053794/8928529"
   ]
  },
  {
   "cell_type": "code",
   "execution_count": null,
   "metadata": {},
   "outputs": [],
   "source": [
    "connector_df = pd.read_csv(\"data/county_adjacency.txt\", sep='\\t',  header=None, engine='python')"
   ]
  },
  {
   "cell_type": "code",
   "execution_count": null,
   "metadata": {},
   "outputs": [],
   "source": [
    "connector_df"
   ]
  },
  {
   "cell_type": "code",
   "execution_count": null,
   "metadata": {},
   "outputs": [],
   "source": [
    "sparse_grid=dict()\n",
    "incounty = False"
   ]
  },
  {
   "cell_type": "code",
   "execution_count": null,
   "metadata": {},
   "outputs": [],
   "source": [
    "for index, row in connector_df.iterrows():\n",
    "    if (type(row[0]) == str):\n",
    "        print(row[0], row[1])\n",
    "        curr_county = row[1]\n",
    "        # first connection is on the same line, often self\n",
    "        sparse_grid[curr_county]=[]\n",
    "        sparse_grid[curr_county].append(row[3])\n",
    "        continue\n",
    "    sparse_grid[curr_county].append(row[3])\n",
    "    print(row[3])"
   ]
  },
  {
   "cell_type": "code",
   "execution_count": null,
   "metadata": {},
   "outputs": [],
   "source": [
    "sparse_grid"
   ]
  },
  {
   "cell_type": "markdown",
   "metadata": {},
   "source": [
    "## Build and visualize sparse matrix \n",
    "\n",
    "Use the above data to [build a sparse matrix for the connectivity so it can be visualized](https://cmdlinetips.com/2019/02/how-to-visualize-sparse-matrix-in-python/).  The matplotlib.pylab.spy function is like imshow but for sparse matricies.  It give quick insight into the connectivity patterns in a matrix."
   ]
  },
  {
   "cell_type": "markdown",
   "metadata": {},
   "source": [
    "Get the max index for the sparse matrix and add one to tollerate FIPS 1-indexed values."
   ]
  },
  {
   "cell_type": "code",
   "execution_count": null,
   "metadata": {},
   "outputs": [],
   "source": [
    "FIPS=list(sparse_grid.keys())\n",
    "\n",
    "M=int(max(FIPS))+1"
   ]
  },
  {
   "cell_type": "markdown",
   "metadata": {},
   "source": [
    "Create a sparse matrix using the list-of-lists constructor with dimensions to support every FIPS id."
   ]
  },
  {
   "cell_type": "code",
   "execution_count": null,
   "metadata": {},
   "outputs": [],
   "source": [
    "county_adjmat = sparse.lil_matrix((M,M))"
   ]
  },
  {
   "cell_type": "markdown",
   "metadata": {},
   "source": [
    "Load the processed data above initializing each adjacent entry with 1.  All non-adjacent entries remain zero. The [lil_matrix is simply indexed to initialize](https://stackoverflow.com/q/40352616/8928529). See http://scipy-lectures.org/advanced/scipy_sparse/lil_matrix.html"
   ]
  },
  {
   "cell_type": "code",
   "execution_count": null,
   "metadata": {},
   "outputs": [],
   "source": [
    "for county in sparse_grid.keys():\n",
    "    for adjacent in sparse_grid[county]:\n",
    "        county_adjmat[county, adjacent]=1"
   ]
  },
  {
   "cell_type": "markdown",
   "metadata": {},
   "source": [
    "[Adjust the default image size](https://stackoverflow.com/a/36368418/8928529) to get a visuallization we can see."
   ]
  },
  {
   "cell_type": "code",
   "execution_count": null,
   "metadata": {},
   "outputs": [],
   "source": [
    "from matplotlib.pyplot import figure\n",
    "figure(num=None, figsize=(20, 20), dpi=80, facecolor='w', edgecolor='k')"
   ]
  },
  {
   "cell_type": "code",
   "execution_count": null,
   "metadata": {},
   "outputs": [],
   "source": [
    "plt.rcParams['figure.figsize'] = [10, 10]"
   ]
  },
  {
   "cell_type": "code",
   "execution_count": null,
   "metadata": {},
   "outputs": [],
   "source": [
    "pylab.spy(county_sparse, markersize=1)"
   ]
  }
 ],
 "metadata": {
  "language_info": {
   "name": "python",
   "pygments_lexer": "ipython3"
  }
 },
 "nbformat": 4,
 "nbformat_minor": 4
}
