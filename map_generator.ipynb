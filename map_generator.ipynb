{
 "cells": [
  {
   "cell_type": "markdown",
   "metadata": {},
   "source": [
    "Explore [geo pandas mapping example](https://geopandas.org/gallery/create_geopandas_from_pandas.html#sphx-glr-gallery-create-geopandas-from-pandas-py) with novel corona virus data from [John's Hopkins via Kaggle](https://www.kaggle.com/sudalairajkumar/novel-corona-virus-2019-dataset#time_series_covid_19_confirmed_US.csv).\n",
    "\n",
    "You need to manually download the data because you need a (free) Kaggle account. Download the Kaggle Covid data set and unpack it into the data/ directory containing this notebook.\n",
    "\n",
    "Make sure to have [geopandas](https://geopandas.org/install.html) installed for base functionality.  The [descartes](https://pypi.python.org/pypi/descartes) package is needed for plotting the map."
   ]
  },
  {
   "cell_type": "markdown",
   "metadata": {},
   "source": [
    "!conda install -y geopandas"
   ]
  },
  {
   "cell_type": "markdown",
   "metadata": {},
   "source": [
    "!conda install -y descartes"
   ]
  },
  {
   "cell_type": "markdown",
   "metadata": {},
   "source": [
    "Set up the library imports"
   ]
  },
  {
   "cell_type": "code",
   "execution_count": null,
   "metadata": {},
   "outputs": [],
   "source": [
    "import pandas as pd\n",
    "import geopandas\n",
    "import matplotlib.pyplot as plt"
   ]
  },
  {
   "cell_type": "code",
   "execution_count": null,
   "metadata": {},
   "outputs": [],
   "source": [
    "rona_df = pd.read_csv(\"data/time_series_covid_19_confirmed_US.csv\")"
   ]
  },
  {
   "cell_type": "code",
   "execution_count": null,
   "metadata": {},
   "outputs": [],
   "source": [
    "rona_df.head()"
   ]
  },
  {
   "cell_type": "markdown",
   "metadata": {},
   "source": [
    "We want to limit our view to the continental United States.  It would be great to have a [bounding box to select just the Latitude and Longitude of interest](https://wiki.openstreetmap.org/wiki/Bounding_Box) but a quick search didn't turn up any numbers to use.  We can get our info by just dropping non-states in the first six rows who have a UID less than 1000 and Alaska and Hawaii from the states. Syntax help from https://stackoverflow.com/a/17071908/8928529.\n",
    "\n",
    "We can get just state level data for a less granular map by choose the entries with Lat = 0 but this is more complicated to plot since we lose position info. Go ahead and create the data set but ignore it for now. "
   ]
  },
  {
   "cell_type": "code",
   "execution_count": null,
   "metadata": {},
   "outputs": [],
   "source": [
    "rona_cus_df = rona_df.loc[(rona_df['UID']>1000) &\n",
    "                          (rona_df['Lat'] > 0) &\n",
    "                          (~rona_df['Province_State'].isin(['Alaska', 'Hawaii']))\n",
    "                         ]"
   ]
  },
  {
   "cell_type": "code",
   "execution_count": null,
   "metadata": {},
   "outputs": [],
   "source": [
    "rona_state_df = rona_df.loc[(rona_df['UID']>1000) & \n",
    "                            (rona_df['Lat'] == 0) &\n",
    "                            (~rona_df['Province_State'].isin(['Alaska', 'Hawaii'])) &\n",
    "                            (~rona_df['Admin2'].isin(['Unassigned', '']))\n",
    "                           ]"
   ]
  },
  {
   "cell_type": "code",
   "execution_count": null,
   "metadata": {},
   "outputs": [],
   "source": [
    "rona_cus_df"
   ]
  },
  {
   "cell_type": "markdown",
   "metadata": {},
   "source": [
    "create teh geodata frame for plotting"
   ]
  },
  {
   "cell_type": "code",
   "execution_count": null,
   "metadata": {},
   "outputs": [],
   "source": [
    "gdf = geopandas.GeoDataFrame(rona_cus_df,\n",
    "                             geometry=geopandas.points_from_xy(rona_cus_df.Long_, rona_cus_df.Lat))\n"
   ]
  },
  {
   "cell_type": "code",
   "execution_count": null,
   "metadata": {},
   "outputs": [],
   "source": [
    "gdf"
   ]
  },
  {
   "cell_type": "markdown",
   "metadata": {},
   "source": [
    "Now plot the location data on the US contentintal map. (This requires the [descartes](https://pypi.python.org/pypi/descartes) module installed above.)"
   ]
  },
  {
   "cell_type": "code",
   "execution_count": null,
   "metadata": {},
   "outputs": [],
   "source": [
    "plt.rcParams[\"figure.figsize\"] = (20,20)\n",
    "plt.rcParams['image.interpolation'] = 'none'\n",
    "plt.rcParams['image.cmap'] = 'binary'\n"
   ]
  },
  {
   "cell_type": "code",
   "execution_count": null,
   "metadata": {},
   "outputs": [],
   "source": [
    "world = geopandas.read_file(geopandas.datasets.get_path('naturalearth_lowres'))\n",
    "\n",
    "# We restrict to United States\n",
    "ax = world[world.continent == 'United States'].plot(\n",
    "    color='white', edgecolor='black')\n",
    "\n",
    "# We can now plot our ``GeoDataFrame``.\n",
    "gdf.plot(ax=ax, color='black', marker='s', markersize=10)\n",
    "\n",
    "plt.axis(\"off\")\n",
    "# note figsize causes the png to be empty, not sure how thes value interact, use dpi for now\n",
    "# plt.figure(figsize=(10,10))\n",
    "\n",
    "# add .savefig() to write the image as png\n",
    "# also note that the output appears to be grayscale since the square edges are soft\n",
    "# would be good to have simple black and white ouput, zeros and ones.\n",
    "plt.savefig(\"murica.png\", dpi=100)\n",
    "plt.show()"
   ]
  },
  {
   "cell_type": "code",
   "execution_count": null,
   "metadata": {},
   "outputs": [],
   "source": [
    "i = 1\n",
    "first_loc = gdf.columns.get_loc(\"1/22/20\")\n",
    "for col in gdf.columns[first_loc:]:\n",
    "    world = geopandas.read_file(geopandas.datasets.get_path('naturalearth_lowres'))\n",
    "    ax = world[world.continent == 'United States'].plot(color='white', edgecolor='white')\n",
    "    file_name = str(i) + '.png'\n",
    "    limit_columns = gdf[['Admin2','Province_State','Lat','Long_',col]]\n",
    "    filter_columns = limit_columns[limit_columns[col] != 0]\n",
    "    lat_long = geopandas.GeoDataFrame(filter_columns,\n",
    "                          geometry=geopandas.points_from_xy(filter_columns.Long_, filter_columns.Lat))\n",
    "    lat_long.plot(ax=ax, color='red', marker='s',markersize=lat_long[col])\n",
    "    plt.axis('off')\n",
    "    plt.savefig(file_name,dpi=100)\n",
    "    plt.figure(figsize=(100,100))\n",
    "    \n",
    "    i +=1\n",
    "    \n",
    "    \n",
    "plt.show()"
   ]
  }
 ],
 "metadata": {
  "language_info": {
   "name": "python",
   "pygments_lexer": "ipython3"
  }
 },
 "nbformat": 4,
 "nbformat_minor": 4
}
